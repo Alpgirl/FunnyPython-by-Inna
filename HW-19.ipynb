{
 "cells": [
  {
   "cell_type": "markdown",
   "metadata": {},
   "source": [
    "## FIGHT"
   ]
  },
  {
   "cell_type": "code",
   "execution_count": 31,
   "metadata": {
    "scrolled": true
   },
   "outputs": [],
   "source": [
    "class Warrior:\n",
    "\n",
    "    def __init__(self, name, health):\n",
    "        self.name = name \n",
    "        self.health = health"
   ]
  },
  {
   "cell_type": "code",
   "execution_count": 32,
   "metadata": {},
   "outputs": [
    {
     "name": "stdout",
     "output_type": "stream",
     "text": [
      "Warrior 1 атакует\n",
      "Осталось здоровья: Warrior 1 : 100 Warrior 2 : 80\n",
      "Warrior 2 атакует\n",
      "Осталось здоровья: Warrior 1 : 80 Warrior 2 : 80\n",
      "Warrior 1 атакует\n",
      "Осталось здоровья: Warrior 1 : 80 Warrior 2 : 60\n",
      "Warrior 2 атакует\n",
      "Осталось здоровья: Warrior 1 : 60 Warrior 2 : 60\n",
      "Warrior 1 атакует\n",
      "Осталось здоровья: Warrior 1 : 60 Warrior 2 : 40\n",
      "Warrior 1 атакует\n",
      "Осталось здоровья: Warrior 1 : 60 Warrior 2 : 20\n",
      "Warrior 2 атакует\n",
      "Осталось здоровья: Warrior 1 : 40 Warrior 2 : 20\n",
      "Warrior 1 атакует\n",
      "Осталось здоровья: Warrior 1 : 40 Warrior 2 : 0\n",
      "Warrior 1 победил\n"
     ]
    }
   ],
   "source": [
    "import random\n",
    "\n",
    "warrior_1 = Warrior('Warrior 1', 100)\n",
    "warrior_2 = Warrior('Warrior 2', 100)\n",
    "\n",
    "while warrior_1.health > 0 and warrior_2.health > 0:\n",
    "    if random.randint(1,2) == 1:\n",
    "        warrior_1.health -= 20\n",
    "        print(warrior_2.name, 'атакует')\n",
    "    else:\n",
    "        warrior_2.health -= 20\n",
    "        print(warrior_1.name, 'атакует')\n",
    "    print(\"Осталось здоровья:\", warrior_1.name, ':', warrior_1.health, warrior_2.name, ':', warrior_2.health)\n",
    "\n",
    "winner = warrior_1 if warrior_1.health > warrior_2.health else warrior_2\n",
    "print(winner.name, 'победил')"
   ]
  },
  {
   "cell_type": "markdown",
   "metadata": {},
   "source": [
    "## STUDENTS"
   ]
  },
  {
   "cell_type": "code",
   "execution_count": 4,
   "metadata": {},
   "outputs": [],
   "source": [
    "class Student:\n",
    "    def __init__(self, name, surname, group_num, mark):\n",
    "        self.data = [name, surname, group_num, mark]"
   ]
  },
  {
   "cell_type": "code",
   "execution_count": 21,
   "metadata": {},
   "outputs": [
    {
     "name": "stdout",
     "output_type": "stream",
     "text": [
      "['pwwna', 'idenmlru', 117, 4.0]\n",
      "['bzgfg', 'mareteih', 130, 4.15]\n",
      "['bznaf', 'uinjzgex', 221, 4.26]\n",
      "['xqajt', 'veedalhs', 170, 4.32]\n",
      "['gxzqn', 'mzhxtnxx', 180, 4.32]\n",
      "['edcco', 'svevoimj', 248, 4.43]\n",
      "['jxlyx', 'tsgyntjs', 138, 4.65]\n",
      "['fkjhx', 'szensico', 260, 4.79]\n",
      "['ialxs', 'aqgxhole', 209, 4.85]\n",
      "['otypb', 'rfsoulgn', 151, 4.86]\n"
     ]
    }
   ],
   "source": [
    "import random\n",
    "import string\n",
    "\n",
    "students = []\n",
    "for i in range(10):\n",
    "    name = ''.join(random.choice(string.ascii_lowercase) for _ in range(5))\n",
    "    surname = ''.join(random.choice(string.ascii_lowercase) for _ in range(8))\n",
    "    group = random.randint(100, 299)\n",
    "    mark = round(random.uniform(4.0, 5.0), 2)\n",
    "    students.append(Student(name, surname, group, mark).data)\n",
    "students = sorted(students, key = lambda x: x[3])\n",
    "for el in students: print(el) "
   ]
  },
  {
   "cell_type": "markdown",
   "metadata": {},
   "source": [
    "## ROUND"
   ]
  },
  {
   "cell_type": "code",
   "execution_count": 102,
   "metadata": {},
   "outputs": [],
   "source": [
    "import math\n",
    "\n",
    "class Round():\n",
    "    def __init__(self, x, y, radius):\n",
    "        self.x = x\n",
    "        self.y = y\n",
    "        self.radius = radius\n",
    "        \n",
    "    def square(self):\n",
    "        return math.pi*self.radius**2\n",
    "    \n",
    "    def perimeter(self):\n",
    "        return 2*math.pi*self.radius\n",
    "    \n",
    "    def maximize(self, k):\n",
    "        self.radius *= k\n",
    "        add = 'раза' if k % 10 in (2, 3, 4) else 'раз'\n",
    "        print('Круг масштабирован в', k, add)\n",
    "    \n",
    "    def intersect(self, obj):\n",
    "        dist = ((obj.x - self.x)**2 + (obj.y - self.y)**2)**(0.5)\n",
    "        if dist >= obj.radius + self.radius or dist < obj.radius or dist < self.radius:\n",
    "            return 'Intersects'\n",
    "        else:\n",
    "            return 'Does not intersect'\n",
    "            "
   ]
  },
  {
   "cell_type": "code",
   "execution_count": 104,
   "metadata": {},
   "outputs": [
    {
     "name": "stdout",
     "output_type": "stream",
     "text": [
      "Площадь круга: 78.53981633974483\n",
      "Периметр круга: 31.41592653589793\n",
      "Круг масштабирован в 3 раза\n",
      "Intersects\n"
     ]
    }
   ],
   "source": [
    "obj = Round(0, 0, 5)\n",
    "obj2 = Round(5, 0, 1)\n",
    "print('Площадь круга:', obj.square())\n",
    "print('Периметр круга:', obj.perimeter())\n",
    "obj.maximize(3)\n",
    "print(obj.intersect(obj2))"
   ]
  },
  {
   "cell_type": "markdown",
   "metadata": {},
   "source": [
    "## FATHERS-SONS"
   ]
  },
  {
   "cell_type": "code",
   "execution_count": 203,
   "metadata": {},
   "outputs": [],
   "source": [
    "class son():\n",
    "    def __init__(self, name, age, calm, hunger, father1):\n",
    "        self.name = name\n",
    "        self.age = age\n",
    "        self.is_calm = calm\n",
    "        self.is_hunger = hunger\n",
    "        if father1.age - self.age < 16: raise ValueError('Введен некорректный возраст')\n",
    "\n",
    "class father():\n",
    "    def __init__(self, name, age, children):\n",
    "        self.name = name\n",
    "        self.age = age\n",
    "        self.children = children\n",
    "                \n",
    "    def tell_about_myself(self):\n",
    "        return [self.name, self.age, self.children]\n",
    "    \n",
    "    def calm_down_child(self, son):\n",
    "        if son.name in self.children:\n",
    "            son.is_calm = True\n",
    "            print('Успокоили сына')\n",
    "        else: print('Чужой ребенок')\n",
    "            \n",
    "    def feed_child(self, son):\n",
    "        if son.name in self.children:\n",
    "            son.is_hunger = False\n",
    "            print('Покормили сына')\n",
    "        else: print('Чужой ребенок')"
   ]
  },
  {
   "cell_type": "code",
   "execution_count": 205,
   "metadata": {},
   "outputs": [
    {
     "name": "stdout",
     "output_type": "stream",
     "text": [
      "False\n",
      "True\n",
      "Покормили сына\n",
      "False\n",
      "Успокоили сына\n",
      "True\n"
     ]
    }
   ],
   "source": [
    "father1 = father('Oleg', 35, ['Alex', 'Artem'])\n",
    "son1 = son('Alex', 15, False, True, father1)\n",
    "son2 = son('Peter', 10, True, False, father1)\n",
    "\n",
    "print(son1.is_calm)\n",
    "print(son1.is_hunger)\n",
    "father1.feed_child(son1)\n",
    "print(son1.is_hunger)\n",
    "father1.calm_down_child(son1)\n",
    "print(son1.is_calm)"
   ]
  },
  {
   "cell_type": "markdown",
   "metadata": {},
   "source": [
    "## FUNNY-FARM"
   ]
  },
  {
   "cell_type": "code",
   "execution_count": 105,
   "metadata": {},
   "outputs": [],
   "source": [
    "class Gardener():\n",
    "    def __init__(self, name, potato: list):\n",
    "        self.name = name\n",
    "        self.plant = potato\n",
    "    def take_care(self):\n",
    "        self.plant = [potato + 1 if potato != 4 and potato != None else potato for potato in self.plant]\n",
    "    def harvest(self):\n",
    "        self.pick_potato = [potato if potato == 4 else None for potato in self.plant]\n",
    "        self.plant = [potato if potato != 4 else None for potato in self.plant]\n",
    "    def pot_state(self, pot, garden_bed):\n",
    "        self.num_in_garden_bed = pot\n",
    "        self.maturity = garden_bed[pot]\n"
   ]
  },
  {
   "cell_type": "code",
   "execution_count": 106,
   "metadata": {},
   "outputs": [
    {
     "name": "stdout",
     "output_type": "stream",
     "text": [
      "Состояние грядки: [2, 1, 2, 1, 3]\n",
      "Состояние грядки: [3, 2, 3, 2, 4]\n",
      "Зрелость картошки № 2 : 2\n",
      "Состояние грядки: [3, 2, 3, 2, None]\n",
      "Состояние грядки: [4, 3, 4, 3, None]\n",
      "Зрелость картошки № 1 : 4\n",
      "Состояние грядки: [None, 3, None, 3, None]\n",
      "Состояние грядки: [None, 4, None, 4, None]\n",
      "Зрелость картошки № 4 : 4\n",
      "Состояние грядки: [None, None, None, None, None]\n",
      "Урожай собран!\n"
     ]
    }
   ],
   "source": [
    "import random\n",
    "\n",
    "gardener1 = Gardener('Ivan', [2, 1, 2, 1, 3])\n",
    "# индексы - номера в грядке, элеметы - стадии зрелости\n",
    "\n",
    "length_garden_bed = len(gardener1.plant)\n",
    "print('Состояние грядки:', gardener1.plant)\n",
    "\n",
    "while gardener1.plant != [None]*length_garden_bed:\n",
    "    gardener1.take_care()\n",
    "    print('Состояние грядки:', gardener1.plant)\n",
    "    n = random.randint(0, 4)\n",
    "    if gardener1.plant[n] != None:\n",
    "        gardener1.pot_state(n, gardener1.plant)\n",
    "        print('Зрелость картошки №', gardener1.num_in_garden_bed + 1 , ':', gardener1.maturity)\n",
    "    gardener1.harvest()\n",
    "    print('Состояние грядки:', gardener1.plant)\n",
    "print('Урожай собран!')"
   ]
  },
  {
   "cell_type": "markdown",
   "metadata": {},
   "source": [
    "## MAGIC"
   ]
  },
  {
   "cell_type": "markdown",
   "metadata": {},
   "source": [
    "Таблица преобразований:\n",
    "  Вода + Воздух = Шторм\n",
    "  Вода + Огонь = Пар\n",
    "  Вода + Земля = Грязь\n",
    "  Воздух + Огонь = Молния\n",
    "  Воздух + Земля = Пыль\n",
    "  Огонь + Земля = Лава"
   ]
  },
  {
   "cell_type": "code",
   "execution_count": 146,
   "metadata": {},
   "outputs": [],
   "source": [
    "dict_convert = {\n",
    "    'Вода + Воздух' : 'Шторм',\n",
    "    'Воздух + Вода' : 'Шторм',\n",
    "    'Вода + Огонь' : 'Пар',\n",
    "    'Огонь + Вода' : 'Пар',\n",
    "    'Вода + Земля' : 'Грязь',\n",
    "    'Земля + Вода' : 'Грязь',\n",
    "    'Огонь + Воздух' : 'Молния',\n",
    "    'Воздух + Огонь' : 'Молния',\n",
    "    'Воздух + Земля' : 'Пыль',\n",
    "    'Земля + Воздух' : 'Пыль',\n",
    "    'Огонь + Земля' : 'Лава',\n",
    "    'Земля + Огонь' : 'Лава'\n",
    "}"
   ]
  },
  {
   "cell_type": "code",
   "execution_count": 147,
   "metadata": {},
   "outputs": [],
   "source": [
    "class Element():\n",
    "    def __init__(self, name):\n",
    "        self.name = name\n",
    "    def __add__(self, other):\n",
    "        print(self.name + ' + ' + other.name, end=\" = \")\n",
    "        try:\n",
    "            return dict_convert[self.name + ' + ' + other.name]\n",
    "        except: KeyError('None')\n",
    "        pass\n",
    "    "
   ]
  },
  {
   "cell_type": "code",
   "execution_count": 148,
   "metadata": {},
   "outputs": [
    {
     "name": "stdout",
     "output_type": "stream",
     "text": [
      "Огонь + Вода = Пар\n",
      "Земля + Вода = Грязь\n",
      "Натрий + Вода = None\n",
      "Земля + Огонь = Лава\n"
     ]
    }
   ],
   "source": [
    "print(Element('Огонь').__add__(Element('Вода')))\n",
    "print(Element('Земля').__add__(Element('Вода')))\n",
    "print(Element('Натрий').__add__(Element('Вода')))\n",
    "print(Element('Земля').__add__(Element('Огонь')))"
   ]
  },
  {
   "cell_type": "markdown",
   "metadata": {},
   "source": [
    "## COHABITATION"
   ]
  },
  {
   "cell_type": "code",
   "execution_count": 42,
   "metadata": {},
   "outputs": [],
   "source": [
    "class human():\n",
    "    def __init__(self, name, hunger, home):\n",
    "        self.name = name\n",
    "        self.hunger_degree = hunger\n",
    "        self.house = home\n",
    "    def eat(self):\n",
    "        self.hunger_degree += 1\n",
    "        self.house.fridge -= 1\n",
    "    def work(self):\n",
    "        self.hunger_degree -= 1\n",
    "        self.house.money_shelf += 1\n",
    "    def play(self):\n",
    "        self.hunger_degree -= 1\n",
    "    def shopping(self):\n",
    "        self.house.fridge += 1\n",
    "        self.house.money_shelf -= 1\n",
    "class home():\n",
    "    def __init__(self, fridge, money):\n",
    "        self.fridge = fridge\n",
    "        self.money_shelf = money"
   ]
  },
  {
   "cell_type": "code",
   "execution_count": 44,
   "metadata": {},
   "outputs": [
    {
     "name": "stdout",
     "output_type": "stream",
     "text": [
      "Ivan умер на 59-й день.\n",
      "Nastya умер на 60-й день.\n"
     ]
    }
   ],
   "source": [
    "import random\n",
    "\n",
    "def cohabitation(human1):\n",
    "    for i in range(365):\n",
    "        k = random.randint(1, 6)\n",
    "        if human1.hunger_degree < 20: human1.eat()\n",
    "        if human1.house.fridge < 10: human1.shopping()\n",
    "        if human1.house.money_shelf < 50: human1.work()\n",
    "        if k == 1: human1.work()\n",
    "        elif k == 2: human1.eat()\n",
    "        else: human1.play()\n",
    "        if human1.hunger_degree < 0: \n",
    "            print(human1.name, ' умер на ', i, '-й день.', sep=\"\")\n",
    "            break\n",
    "    \n",
    "    \n",
    "home1 = home(50, 0)\n",
    "home2 = home(50, 0)\n",
    "human1 = human('Ivan', 50, home1)\n",
    "human2 = human('Nastya', 50, home2)\n",
    "\n",
    "cohabitation(human1)\n",
    "cohabitation(human2)"
   ]
  },
  {
   "cell_type": "markdown",
   "metadata": {},
   "source": [
    "## BLACK-JACK"
   ]
  },
  {
   "cell_type": "code",
   "execution_count": 76,
   "metadata": {},
   "outputs": [],
   "source": [
    "class card():\n",
    "    def __init__(self, name, value):\n",
    "        self.card_type = name\n",
    "        self.value = value\n",
    "\n",
    "class player():\n",
    "    def __init__(self, name, cards, mark):\n",
    "        self.name = name\n",
    "        self.cards = cards\n",
    "        self.sum = mark"
   ]
  },
  {
   "cell_type": "code",
   "execution_count": 114,
   "metadata": {},
   "outputs": [
    {
     "name": "stdout",
     "output_type": "stream",
     "text": [
      "\n",
      "0 - взять карту, 1 - остановиться 0\n",
      "\n",
      "Карты Ивана: 7 Туз 3 \n",
      "Сумма очков у Ивана = 21\n",
      "\n",
      "Карты Компьютера: 3 7 8 \n",
      "Сумма очков у Компьютера = 18\n",
      "\n",
      "0 - взять карту, 1 - остановиться 1\n",
      "Иван победил\n"
     ]
    }
   ],
   "source": [
    "import random\n",
    "import sys\n",
    "\n",
    "def game(action, player):\n",
    "    if action == 1: return 1 \n",
    "    else:\n",
    "        card_new = random.choice(cards)\n",
    "        player.cards.append(card_new)\n",
    "        s = 0\n",
    "        print('\\nКарты ', player.name, 'а: ', sep=\"\", end=\"\")\n",
    "        for card_el in player.cards: \n",
    "            s += card_el.value\n",
    "            print(card_el.card_type, end=\" \")\n",
    "        player.sum = s\n",
    "        print('\\nСумма очков у ', player.name, 'а = ', player.sum, sep=\"\") \n",
    "        check(player)\n",
    "        \n",
    "def check(player):\n",
    "    if player.sum > 21: \n",
    "        print(player.name, 'сгорел. Сумма очков превышает 21.')\n",
    "        sys.exit()\n",
    "        \n",
    "        \n",
    "two = card('2', 2)\n",
    "three = card('3', 3)\n",
    "four = card('4', 4)\n",
    "five = card('5', 5)\n",
    "six = card('6', 6)\n",
    "seven = card('7', 7)\n",
    "eight = card('8', 8)\n",
    "nine = card('9', 9)\n",
    "ten = card('10', 10)\n",
    "ace = card('Туз', 11)\n",
    "king = card('Король', 10)\n",
    "lady = card('Дама', 10)\n",
    "jack = card('Валет', 10)\n",
    "\n",
    "cards = [two, three, four, five, six, seven, eight, nine, ten, ace, king, lady, jack]\n",
    "\n",
    "rand1 = random.choices(cards, k = 2)\n",
    "rand2 = random.choices(cards, k = 2)\n",
    "val1, val2 = 0, 0\n",
    "for el1, el2 in zip(rand1, rand2):\n",
    "    val1 += el1.value\n",
    "    val2 += el2.value\n",
    "computer = player('Компьютер', rand1, val1)\n",
    "human = player('Иван', rand2, val2)\n",
    "\n",
    "check(computer)\n",
    "check(human)\n",
    "\n",
    "my_step = True\n",
    "while True:\n",
    "    if my_step == True:\n",
    "        action = int(input('\\n0 - взять карту, 1 - остановиться ')) \n",
    "        step = game(action, human)\n",
    "        my_step = False\n",
    "    else:\n",
    "        action = random.randint(0, 1)\n",
    "        step = game(action, computer)\n",
    "        my_step = True\n",
    "    \n",
    "    if step == 1: \n",
    "        if human.sum == computer.sum: \n",
    "            print('Ничья')\n",
    "        elif human.sum > computer.sum:\n",
    "            print(human.name, 'победил')\n",
    "        else: print(computer.name, 'победил')\n",
    "        break"
   ]
  },
  {
   "cell_type": "markdown",
   "metadata": {},
   "source": [
    "## TIC-TAC-TOE"
   ]
  },
  {
   "cell_type": "code",
   "execution_count": 1,
   "metadata": {},
   "outputs": [],
   "source": [
    "class area():\n",
    "    def __init__(self, matrix):\n",
    "        self.place = matrix\n",
    "class player():\n",
    "    def __init__(self, name):\n",
    "        self.name = name"
   ]
  },
  {
   "cell_type": "code",
   "execution_count": 21,
   "metadata": {},
   "outputs": [
    {
     "name": "stdout",
     "output_type": "stream",
     "text": [
      "   1  2  3  \n",
      "\n",
      "1           \n",
      "\n",
      "2           \n",
      "\n",
      "3           \n",
      "\n",
      "Введите координаты хода (напр. 12, 1 - номер строки, 2 - номер столбца) 11\n",
      "   1  2  3  \n",
      "\n",
      "1  X        \n",
      "\n",
      "2           \n",
      "\n",
      "3           \n",
      "\n",
      "   1  2  3  \n",
      "\n",
      "1  X        \n",
      "\n",
      "2           \n",
      "\n",
      "3        0  \n",
      "\n",
      "Введите координаты хода (напр. 12, 1 - номер строки, 2 - номер столбца) 22\n",
      "   1  2  3  \n",
      "\n",
      "1  X        \n",
      "\n",
      "2     X     \n",
      "\n",
      "3        0  \n",
      "\n",
      "   1  2  3  \n",
      "\n",
      "1  X        \n",
      "\n",
      "2     X  0  \n",
      "\n",
      "3        0  \n",
      "\n",
      "Введите координаты хода (напр. 12, 1 - номер строки, 2 - номер столбца) 13\n",
      "   1  2  3  \n",
      "\n",
      "1  X     X  \n",
      "\n",
      "2     X  0  \n",
      "\n",
      "3        0  \n",
      "\n",
      "   1  2  3  \n",
      "\n",
      "1  X     X  \n",
      "\n",
      "2     X  0  \n",
      "\n",
      "3  0     0  \n",
      "\n",
      "Введите координаты хода (напр. 12, 1 - номер строки, 2 - номер столбца) 32\n",
      "   1  2  3  \n",
      "\n",
      "1  X     X  \n",
      "\n",
      "2     X  0  \n",
      "\n",
      "3  0  X  0  \n",
      "\n",
      "   1  2  3  \n",
      "\n",
      "1  X  0  X  \n",
      "\n",
      "2     X  0  \n",
      "\n",
      "3  0  X  0  \n",
      "\n",
      "Введите координаты хода (напр. 12, 1 - номер строки, 2 - номер столбца) 21\n",
      "   1  2  3  \n",
      "\n",
      "1  X  0  X  \n",
      "\n",
      "2  X  X  0  \n",
      "\n",
      "3  0  X  0  \n",
      "\n",
      "Ничья\n"
     ]
    }
   ],
   "source": [
    "import random\n",
    "\n",
    "def _print_(matrix):\n",
    "    cnt = 0\n",
    "    print('   ', end=\"\")\n",
    "    for k in range(1, 4):\n",
    "        print(k, end=\"  \")\n",
    "    print('\\n')\n",
    "    for i in matrix:\n",
    "        cnt += 1\n",
    "        print(cnt, end=\"  \")\n",
    "        for j in i:\n",
    "            print(j, end=\"\")\n",
    "        print('\\n')\n",
    "        \n",
    "def check(matix):\n",
    "    for k in range(3):\n",
    "        if matrix[k][0] == matrix[k][1] == matrix[k][2] != '   ':\n",
    "            return True \n",
    "        if matrix[0][k] == matrix[1][k] == matrix[2][k] != '   ':\n",
    "            return True\n",
    "    \n",
    "    if matrix[0][0] == matrix[1][1] == matrix[2][2] != '   ':\n",
    "        return True\n",
    "    \n",
    "    cnt = 0\n",
    "    for i in matrix:\n",
    "        for j in i:\n",
    "            if j == '   ': cnt += 1\n",
    "    if cnt == 0: return False\n",
    "    \n",
    "def game(player, matrix, step, sym):\n",
    "    i = int(step[0]) - 1\n",
    "    j = int(step[1]) - 1\n",
    "    matrix[i][j] = sym\n",
    "    _print_(matrix)\n",
    "    if check(matrix) == True:\n",
    "        print(player.name, 'победил.')\n",
    "        return 1\n",
    "    elif check(matrix) == False:\n",
    "        print('Ничья')\n",
    "        return 1\n",
    "    \n",
    "def _input_(matrix):\n",
    "    step = input('Введите координаты хода (напр. 12, 1 - номер строки, 2 - номер столбца) ')\n",
    "    if matrix[int(step[0])-1][int(step[1])-1] != '   ':\n",
    "        print('Клетка уже занята, попробуйте еще раз!')\n",
    "        _input_(matrix)\n",
    "    else:\n",
    "        step_from_func.append(step)\n",
    "        return\n",
    "    \n",
    "        \n",
    "matrix = [['   ' for i in range(3)] for j in range(3)]\n",
    "\n",
    "human = player('Иван')\n",
    "computer = player('Компьютер')\n",
    "area1 = area(matrix)\n",
    "\n",
    "_print_(matrix)\n",
    "my_step = True\n",
    "while True:\n",
    "    if my_step == True:\n",
    "        step_from_func = []\n",
    "        _input_(matrix)\n",
    "        step = step_from_func[0]\n",
    "        res = game(human, matrix, step, 'X  ')\n",
    "        my_step = False\n",
    "    else:\n",
    "        while True:\n",
    "            i = random.randint(1, 3)\n",
    "            j = random.randint(1, 3)\n",
    "            if matrix[i - 1][j - 1] == '   ': break\n",
    "        step = str(i) + str(j)\n",
    "        res = game(computer, matrix, step, '0  ')\n",
    "        my_step = True\n",
    "        \n",
    "    if res == 1: break"
   ]
  },
  {
   "cell_type": "markdown",
   "metadata": {},
   "source": []
  }
 ],
 "metadata": {
  "kernelspec": {
   "display_name": "Python 3",
   "language": "python",
   "name": "python3"
  },
  "language_info": {
   "codemirror_mode": {
    "name": "ipython",
    "version": 3
   },
   "file_extension": ".py",
   "mimetype": "text/x-python",
   "name": "python",
   "nbconvert_exporter": "python",
   "pygments_lexer": "ipython3",
   "version": "3.8.3"
  },
  "toc": {
   "base_numbering": 1,
   "nav_menu": {},
   "number_sections": true,
   "sideBar": true,
   "skip_h1_title": false,
   "title_cell": "Table of Contents",
   "title_sidebar": "Contents",
   "toc_cell": false,
   "toc_position": {},
   "toc_section_display": true,
   "toc_window_display": false
  }
 },
 "nbformat": 4,
 "nbformat_minor": 4
}
