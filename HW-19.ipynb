{
 "cells": [
  {
   "cell_type": "markdown",
   "metadata": {},
   "source": [
    "## FIGHT"
   ]
  },
  {
   "cell_type": "code",
   "execution_count": 31,
   "metadata": {
    "scrolled": true
   },
   "outputs": [],
   "source": [
    "class Warrior:\n",
    "\n",
    "    def __init__(self, name, health):\n",
    "        self.name = name \n",
    "        self.health = health"
   ]
  },
  {
   "cell_type": "code",
   "execution_count": 32,
   "metadata": {},
   "outputs": [
    {
     "name": "stdout",
     "output_type": "stream",
     "text": [
      "Warrior 1 атакует\n",
      "Осталось здоровья: Warrior 1 : 100 Warrior 2 : 80\n",
      "Warrior 2 атакует\n",
      "Осталось здоровья: Warrior 1 : 80 Warrior 2 : 80\n",
      "Warrior 1 атакует\n",
      "Осталось здоровья: Warrior 1 : 80 Warrior 2 : 60\n",
      "Warrior 2 атакует\n",
      "Осталось здоровья: Warrior 1 : 60 Warrior 2 : 60\n",
      "Warrior 1 атакует\n",
      "Осталось здоровья: Warrior 1 : 60 Warrior 2 : 40\n",
      "Warrior 1 атакует\n",
      "Осталось здоровья: Warrior 1 : 60 Warrior 2 : 20\n",
      "Warrior 2 атакует\n",
      "Осталось здоровья: Warrior 1 : 40 Warrior 2 : 20\n",
      "Warrior 1 атакует\n",
      "Осталось здоровья: Warrior 1 : 40 Warrior 2 : 0\n",
      "Warrior 1 победил\n"
     ]
    }
   ],
   "source": [
    "import random\n",
    "\n",
    "warrior_1 = Warrior('Warrior 1', 100)\n",
    "warrior_2 = Warrior('Warrior 2', 100)\n",
    "\n",
    "while warrior_1.health > 0 and warrior_2.health > 0:\n",
    "    if random.randint(1,2) == 1:\n",
    "        warrior_1.health -= 20\n",
    "        print(warrior_2.name, 'атакует')\n",
    "    else:\n",
    "        warrior_2.health -= 20\n",
    "        print(warrior_1.name, 'атакует')\n",
    "    print(\"Осталось здоровья:\", warrior_1.name, ':', warrior_1.health, warrior_2.name, ':', warrior_2.health)\n",
    "\n",
    "winner = warrior_1 if warrior_1.health > warrior_2.health else warrior_2\n",
    "print(winner.name, 'победил')"
   ]
  },
  {
   "cell_type": "markdown",
   "metadata": {},
   "source": [
    "## STUDENTS"
   ]
  },
  {
   "cell_type": "code",
   "execution_count": 4,
   "metadata": {},
   "outputs": [],
   "source": [
    "class Student:\n",
    "    def __init__(self, name, surname, group_num, mark):\n",
    "        self.data = [name, surname, group_num, mark]"
   ]
  },
  {
   "cell_type": "code",
   "execution_count": 21,
   "metadata": {},
   "outputs": [
    {
     "name": "stdout",
     "output_type": "stream",
     "text": [
      "['pwwna', 'idenmlru', 117, 4.0]\n",
      "['bzgfg', 'mareteih', 130, 4.15]\n",
      "['bznaf', 'uinjzgex', 221, 4.26]\n",
      "['xqajt', 'veedalhs', 170, 4.32]\n",
      "['gxzqn', 'mzhxtnxx', 180, 4.32]\n",
      "['edcco', 'svevoimj', 248, 4.43]\n",
      "['jxlyx', 'tsgyntjs', 138, 4.65]\n",
      "['fkjhx', 'szensico', 260, 4.79]\n",
      "['ialxs', 'aqgxhole', 209, 4.85]\n",
      "['otypb', 'rfsoulgn', 151, 4.86]\n"
     ]
    }
   ],
   "source": [
    "import random\n",
    "import string\n",
    "\n",
    "students = []\n",
    "for i in range(10):\n",
    "    name = ''.join(random.choice(string.ascii_lowercase) for _ in range(5))\n",
    "    surname = ''.join(random.choice(string.ascii_lowercase) for _ in range(8))\n",
    "    group = random.randint(100, 299)\n",
    "    mark = round(random.uniform(4.0, 5.0), 2)\n",
    "    students.append(Student(name, surname, group, mark).data)\n",
    "students = sorted(students, key = lambda x: x[3])\n",
    "for el in students: print(el) "
   ]
  },
  {
   "cell_type": "markdown",
   "metadata": {},
   "source": [
    "## ROUND"
   ]
  },
  {
   "cell_type": "code",
   "execution_count": 102,
   "metadata": {},
   "outputs": [],
   "source": [
    "import math\n",
    "\n",
    "class Round():\n",
    "    def __init__(self, x, y, radius):\n",
    "        self.x = x\n",
    "        self.y = y\n",
    "        self.radius = radius\n",
    "        \n",
    "    def square(self):\n",
    "        return math.pi*self.radius**2\n",
    "    \n",
    "    def perimeter(self):\n",
    "        return 2*math.pi*self.radius\n",
    "    \n",
    "    def maximize(self, k):\n",
    "        self.radius *= k\n",
    "        add = 'раза' if k % 10 in (2, 3, 4) else 'раз'\n",
    "        print('Круг масштабирован в', k, add)\n",
    "    \n",
    "    def intersect(self, obj):\n",
    "        dist = ((obj.x - self.x)**2 + (obj.y - self.y)**2)**(0.5)\n",
    "        if dist >= obj.radius + self.radius or dist < obj.radius or dist < self.radius:\n",
    "            return 'Intersects'\n",
    "        else:\n",
    "            return 'Does not intersect'\n",
    "            "
   ]
  },
  {
   "cell_type": "code",
   "execution_count": 104,
   "metadata": {},
   "outputs": [
    {
     "name": "stdout",
     "output_type": "stream",
     "text": [
      "Площадь круга: 78.53981633974483\n",
      "Периметр круга: 31.41592653589793\n",
      "Круг масштабирован в 3 раза\n",
      "Intersects\n"
     ]
    }
   ],
   "source": [
    "obj = Round(0, 0, 5)\n",
    "obj2 = Round(5, 0, 1)\n",
    "print('Площадь круга:', obj.square())\n",
    "print('Периметр круга:', obj.perimeter())\n",
    "obj.maximize(3)\n",
    "print(obj.intersect(obj2))"
   ]
  },
  {
   "cell_type": "markdown",
   "metadata": {},
   "source": [
    "## FATHERS-SONS"
   ]
  },
  {
   "cell_type": "code",
   "execution_count": 203,
   "metadata": {},
   "outputs": [],
   "source": [
    "class son():\n",
    "    def __init__(self, name, age, calm, hunger, father1):\n",
    "        self.name = name\n",
    "        self.age = age\n",
    "        self.is_calm = calm\n",
    "        self.is_hunger = hunger\n",
    "        if father1.age - self.age < 16: raise ValueError('Введен некорректный возраст')\n",
    "\n",
    "class father():\n",
    "    def __init__(self, name, age, children):\n",
    "        self.name = name\n",
    "        self.age = age\n",
    "        self.children = children\n",
    "                \n",
    "    def tell_about_myself(self):\n",
    "        return [self.name, self.age, self.children]\n",
    "    \n",
    "    def calm_down_child(self, son):\n",
    "        if son.name in self.children:\n",
    "            son.is_calm = True\n",
    "            print('Успокоили сына')\n",
    "        else: print('Чужой ребенок')\n",
    "            \n",
    "    def feed_child(self, son):\n",
    "        if son.name in self.children:\n",
    "            son.is_hunger = False\n",
    "            print('Покормили сына')\n",
    "        else: print('Чужой ребенок')"
   ]
  },
  {
   "cell_type": "code",
   "execution_count": 205,
   "metadata": {},
   "outputs": [
    {
     "name": "stdout",
     "output_type": "stream",
     "text": [
      "False\n",
      "True\n",
      "Покормили сына\n",
      "False\n",
      "Успокоили сына\n",
      "True\n"
     ]
    }
   ],
   "source": [
    "father1 = father('Oleg', 35, ['Alex', 'Artem'])\n",
    "son1 = son('Alex', 15, False, True, father1)\n",
    "son2 = son('Peter', 10, True, False, father1)\n",
    "\n",
    "print(son1.is_calm)\n",
    "print(son1.is_hunger)\n",
    "father1.feed_child(son1)\n",
    "print(son1.is_hunger)\n",
    "father1.calm_down_child(son1)\n",
    "print(son1.is_calm)\n"
   ]
  },
  {
   "cell_type": "markdown",
   "metadata": {},
   "source": [
    "## FUNNY-FARM"
   ]
  },
  {
   "cell_type": "code",
   "execution_count": null,
   "metadata": {},
   "outputs": [],
   "source": []
  }
 ],
 "metadata": {
  "kernelspec": {
   "display_name": "Python 3",
   "language": "python",
   "name": "python3"
  },
  "language_info": {
   "codemirror_mode": {
    "name": "ipython",
    "version": 3
   },
   "file_extension": ".py",
   "mimetype": "text/x-python",
   "name": "python",
   "nbconvert_exporter": "python",
   "pygments_lexer": "ipython3",
   "version": "3.8.3"
  },
  "toc": {
   "base_numbering": 1,
   "nav_menu": {},
   "number_sections": true,
   "sideBar": true,
   "skip_h1_title": false,
   "title_cell": "Table of Contents",
   "title_sidebar": "Contents",
   "toc_cell": false,
   "toc_position": {},
   "toc_section_display": true,
   "toc_window_display": false
  }
 },
 "nbformat": 4,
 "nbformat_minor": 4
}
