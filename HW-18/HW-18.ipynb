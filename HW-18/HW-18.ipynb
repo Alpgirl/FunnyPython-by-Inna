{
 "cells": [
  {
   "cell_type": "markdown",
   "metadata": {},
   "source": [
    "## NAMES"
   ]
  },
  {
   "cell_type": "code",
   "execution_count": 67,
   "metadata": {},
   "outputs": [
    {
     "name": "stdout",
     "output_type": "stream",
     "text": [
      "Общее количество символов: 52\n"
     ]
    }
   ],
   "source": [
    "with open('people.txt', 'r') as f, open('errors.log', 'w') as f_err:\n",
    "    length, cnt = 0, 1\n",
    "    for line in f.readlines():\n",
    "        if len(line) <= 4:\n",
    "            f_err.write(f'Error in {cnt} line\\n')\n",
    "        else:\n",
    "            length += len(line)\n",
    "        cnt += 1\n",
    "    print('Общее количество символов:', length)"
   ]
  },
  {
   "cell_type": "markdown",
   "metadata": {},
   "source": [
    "## COORDINATES"
   ]
  },
  {
   "cell_type": "code",
   "execution_count": 54,
   "metadata": {},
   "outputs": [
    {
     "name": "stdout",
     "output_type": "stream",
     "text": [
      "['3', '5']\n",
      "['4', '7']\n",
      "Что-то пошло не так со второй функцией\n",
      "['-3', '0']\n",
      "['4', '15']\n",
      "Что-то пошло не так со второй функцией\n",
      "['45', '-1']\n",
      "['9.1', '0.6']\n",
      "Что-то пошло не так с первой функцией\n",
      "Что-то пошло не так со второй функцией\n",
      "['4.7', '-2.5']\n",
      "Что-то пошло не так с первой функцией\n",
      "Что-то пошло не так со второй функцией\n"
     ]
    }
   ],
   "source": [
    "import random\n",
    "\n",
    "def f(x, y):\n",
    "    x += random.randint(0, 10)\n",
    "    y += random.randint(0, 5)\n",
    "    return x/y\n",
    "\n",
    "def f2(x, y):\n",
    "    x -= random.randint(0, 10)\n",
    "    y -= random.randint(0, 5)\n",
    "    return y/x\n",
    "\n",
    "file = open('coordinates.txt', 'r')\n",
    "file_2 = open('result.txt', 'w')\n",
    "\n",
    "for line in file:\n",
    "    nums_list = line.split()\n",
    "    print(nums_list)\n",
    "    try:\n",
    "        res1 = f(int(nums_list[0]), int(nums_list[1]))\n",
    "    except Exception:\n",
    "        print(\"Что-то пошло не так с первой функцией\")\n",
    "        \n",
    "    try:\n",
    "        res2 = f2(int(nums_list[0]), int(nums_list[1]))\n",
    "    except Exception:\n",
    "        print(\"Что-то пошло не так со второй функцией\")\n",
    "    try:\n",
    "        number = random.randint(0, 100)\n",
    "        my_list = sorted([res1, res2, number])\n",
    "        file_2.write(str(my_list)+'\\n')\n",
    "    except:\n",
    "        print(\"Что-то пошло не так\")\n",
    "    \n",
    "file.close()            \n",
    "file_2.close()    "
   ]
  },
  {
   "cell_type": "markdown",
   "metadata": {},
   "source": [
    "## HAPPY-NUM"
   ]
  },
  {
   "cell_type": "code",
   "execution_count": 61,
   "metadata": {},
   "outputs": [
    {
     "name": "stdout",
     "output_type": "stream",
     "text": [
      "Введите число: 300\n",
      "Введите число: 123\n",
      "Введите число: 67\n",
      "Введите число: 50\n",
      "Введите число: 300\n"
     ]
    },
    {
     "ename": "Exception",
     "evalue": "You are unlucky",
     "output_type": "error",
     "traceback": [
      "\u001b[0;31m---------------------------------------------------------------------------\u001b[0m",
      "\u001b[0;31mException\u001b[0m                                 Traceback (most recent call last)",
      "\u001b[0;32m<ipython-input-61-0f67bc4bccbc>\u001b[0m in \u001b[0;36m<module>\u001b[0;34m\u001b[0m\n\u001b[1;32m      7\u001b[0m         \u001b[0mvalue\u001b[0m \u001b[0;34m+=\u001b[0m \u001b[0mnumber\u001b[0m\u001b[0;34m\u001b[0m\u001b[0;34m\u001b[0m\u001b[0m\n\u001b[1;32m      8\u001b[0m         \u001b[0;32mif\u001b[0m \u001b[0mrandom\u001b[0m\u001b[0;34m.\u001b[0m\u001b[0mrandint\u001b[0m\u001b[0;34m(\u001b[0m\u001b[0;36m0\u001b[0m\u001b[0;34m,\u001b[0m\u001b[0;36m12\u001b[0m\u001b[0;34m)\u001b[0m \u001b[0;34m==\u001b[0m \u001b[0;36m0\u001b[0m\u001b[0;34m:\u001b[0m\u001b[0;34m\u001b[0m\u001b[0;34m\u001b[0m\u001b[0m\n\u001b[0;32m----> 9\u001b[0;31m             \u001b[0;32mraise\u001b[0m \u001b[0mException\u001b[0m\u001b[0;34m(\u001b[0m\u001b[0;34m'You are unlucky'\u001b[0m\u001b[0;34m)\u001b[0m\u001b[0;34m\u001b[0m\u001b[0;34m\u001b[0m\u001b[0m\n\u001b[0m\u001b[1;32m     10\u001b[0m         \u001b[0mf\u001b[0m\u001b[0;34m.\u001b[0m\u001b[0mwrite\u001b[0m\u001b[0;34m(\u001b[0m\u001b[0mstr\u001b[0m\u001b[0;34m(\u001b[0m\u001b[0mvalue\u001b[0m\u001b[0;34m)\u001b[0m\u001b[0;34m+\u001b[0m\u001b[0;34m'\\n'\u001b[0m\u001b[0;34m)\u001b[0m\u001b[0;34m\u001b[0m\u001b[0;34m\u001b[0m\u001b[0m\n\u001b[1;32m     11\u001b[0m     \u001b[0mprint\u001b[0m\u001b[0;34m(\u001b[0m\u001b[0;34m'Сумма введенных чисел:'\u001b[0m\u001b[0;34m,\u001b[0m \u001b[0mvalue\u001b[0m\u001b[0;34m)\u001b[0m\u001b[0;34m\u001b[0m\u001b[0;34m\u001b[0m\u001b[0m\n",
      "\u001b[0;31mException\u001b[0m: You are unlucky"
     ]
    }
   ],
   "source": [
    "import random\n",
    "\n",
    "with open('happy-num.txt', 'w') as f:\n",
    "    value = 0\n",
    "    while value <= 777:\n",
    "        number = float(input('Введите число: '))\n",
    "        value += number\n",
    "        if random.randint(0,12) == 0:\n",
    "            raise Exception('You are unlucky')\n",
    "        f.write(str(value)+'\\n')\n",
    "    print('Сумма введенных чисел:', value)"
   ]
  },
  {
   "cell_type": "markdown",
   "metadata": {},
   "source": [
    "## SIGN-UP"
   ]
  },
  {
   "cell_type": "code",
   "execution_count": 115,
   "metadata": {},
   "outputs": [],
   "source": [
    "def raise_error(line):\n",
    "    mistakes, mistFound = str(line)[:-1], False\n",
    "    if len(line.split()) != 3: \n",
    "        mistakes += ' ValueError\\n'\n",
    "        sumup_bad.append(mistakes)\n",
    "        return\n",
    "    if [sym for sym in line.split()[0] if sym.isdigit()]:\n",
    "        mistakes += ' NameError' \n",
    "        mistFound = True\n",
    "    if not [sym for sym in line.split()[1] if sym == '.' ] or not [sym for sym in line.split()[1] if sym == '@']:\n",
    "        mistakes += ' SyntaxError'\n",
    "        mistFound = True\n",
    "    if int(line.split()[2]) < 10 or int(line.split()[2]) > 99:\n",
    "        mistakes += ' ValueError' \n",
    "        mistFound = True\n",
    "    if mistFound == True: sumup_bad.append(mistakes)\n",
    "    else: sumup_good.append(mistakes + '\\n')\n",
    "\n",
    "sumup_bad, sumup_good = [], []\n",
    "with open('registrations.txt') as f, open('registrations_bad.log', 'w') as f_bad, open('registrations_good.log', 'w') as f_good:\n",
    "    for line in f.readlines(): raise_error(line)\n",
    "    for el in sumup_good: f_good.write(el)\n",
    "    for el in sumup_bad: f_bad.write(el)"
   ]
  },
  {
   "cell_type": "markdown",
   "metadata": {},
   "source": [
    "## TEXT-CALCULATOR"
   ]
  },
  {
   "cell_type": "code",
   "execution_count": 134,
   "metadata": {},
   "outputs": [
    {
     "name": "stdout",
     "output_type": "stream",
     "text": [
      "In line 23 / 0 division by zero\n",
      "In line 45 * a operands are not integer\n",
      "In line 3 t 2 incorrect literals\n",
      "Сумма проведенных операций: 140\n"
     ]
    }
   ],
   "source": [
    "def check(operation):\n",
    "    if len(operation) != 3: raise SyntaxError\n",
    "    if not operation[0].isdigit() or not operation[2].isdigit(): raise ValueError\n",
    "    if operation[1] not in '/%+-*': raise TypeError\n",
    "    sign = operation[1]\n",
    "    for key in calc.keys():\n",
    "        if operation[1] in key:\n",
    "            try:\n",
    "                return calc.get(key)(int(operation[0]), int(operation[2]))\n",
    "            except: \n",
    "                raise ZeroDivisionError\n",
    "\n",
    "calc = {\n",
    "    \"+\": lambda x, y: x + y,\n",
    "    \"-\": lambda x, y: x - y,\n",
    "    \"*\": lambda x, y: x * y,\n",
    "    \"%\": lambda x, y: x % y,\n",
    "    \"/\": lambda x, y: x / y\n",
    "}\n",
    "\n",
    "with open('calculator.txt') as f:\n",
    "    s = 0\n",
    "    for line in f.readlines():\n",
    "        try:\n",
    "            s += check(line.split())\n",
    "        except ValueError:\n",
    "            print('In line ', line[:-1], ' operands are not integer', sep=\"\")\n",
    "        except SyntaxError:\n",
    "            print('In line ', line[:-1], ' incorrect expression', sep=\"\")\n",
    "        except TypeError:\n",
    "            print('In line ', line[:-1], ' incorrect literals', sep=\"\")\n",
    "        except ZeroDivisionError:\n",
    "            print('In line ', line[:-1], ' division by zero', sep=\"\")\n",
    "    print('Сумма проведенных операций:', s)"
   ]
  },
  {
   "cell_type": "markdown",
   "metadata": {},
   "source": [
    "## CHAT"
   ]
  },
  {
   "cell_type": "code",
   "execution_count": 148,
   "metadata": {},
   "outputs": [
    {
     "name": "stdout",
     "output_type": "stream",
     "text": [
      "Введите имя: Inna\n",
      "\n",
      "Выйти из чата - 0\n",
      "Посмотреть текущий текст чата - 1\n",
      "Отправить сообщение - 2\n",
      "1\n",
      "\n",
      "Содержимое файла chat.txt:\n",
      "\n",
      "Inna: Всем привет! Завтра будет забег.\n",
      "\n",
      "Inna: Кто придет?\n",
      "\n",
      "Inna: Нужно определиться до вечера\n",
      "\n",
      "\n",
      "Выйти из чата - 0\n",
      "Посмотреть текущий текст чата - 1\n",
      "Отправить сообщение - 2\n",
      "2\n",
      "Введите сообщение: Всех жду\n",
      "\n",
      "Выйти из чата - 0\n",
      "Посмотреть текущий текст чата - 1\n",
      "Отправить сообщение - 2\n",
      "1\n",
      "\n",
      "Содержимое файла chat.txt:\n",
      "\n",
      "Inna: Всем привет! Завтра будет забег.\n",
      "\n",
      "Inna: Кто придет?\n",
      "\n",
      "Inna: Нужно определиться до вечера\n",
      "\n",
      "Inna: Всех жду\n",
      "\n",
      "\n",
      "Выйти из чата - 0\n",
      "Посмотреть текущий текст чата - 1\n",
      "Отправить сообщение - 2\n",
      "0\n"
     ]
    }
   ],
   "source": [
    "name = input('Введите имя: ')\n",
    "\n",
    "while True:\n",
    "    print('\\nВыйти из чата - 0')\n",
    "    print('Посмотреть текущий текст чата - 1')\n",
    "    print('Отправить сообщение - 2')\n",
    "    answer = int(input())\n",
    "    if answer == 0: break\n",
    "    if answer == 1:\n",
    "        try:\n",
    "            with open('chat.txt') as f:\n",
    "                contents = f.readlines()\n",
    "                if contents:\n",
    "                    print(f'\\nСодержимое файла {f.name}:\\n')\n",
    "                    for el in contents: print(el)\n",
    "                else: print('Чат пуст')\n",
    "        except FileNotFoundError:\n",
    "            print('Что-то пошло не так')\n",
    "    elif answer == 2:\n",
    "        message = input('Введите сообщение: ')\n",
    "        with open('chat.txt', 'a') as f_new_mess:\n",
    "            f_new_mess.write(name + ': ' + message + '\\n')\n",
    "    else:\n",
    "        raise SyntaxError('Некорректный ввод')"
   ]
  },
  {
   "cell_type": "markdown",
   "metadata": {},
   "source": [
    "## TEXT-CALCULATOR-2"
   ]
  },
  {
   "cell_type": "code",
   "execution_count": 165,
   "metadata": {},
   "outputs": [
    {
     "name": "stdout",
     "output_type": "stream",
     "text": [
      "\n",
      "Содержимое файла calculator.txt:\n",
      "\n",
      "100 + 34\n",
      "\n",
      "23 / 0\n",
      "\n",
      "45 * a\n",
      "\n",
      "3 t 2\n",
      "\n",
      "6 % 9\n",
      "Обнаружена ошибка в строке 23 / 0. Хотите исправить? да\n",
      "Введите исправленную строку: 23 /еро\n",
      "Обнаружена ошибка в строке 23 /еро. Хотите исправить? да\n",
      "Введите исправленную строку: 23/6\n",
      "Обнаружена ошибка в строке 23/6. Хотите исправить? да\n",
      "Введите исправленную строку: 23 / 4\n",
      "Обнаружена ошибка в строке 45 * a. Хотите исправить? нет\n",
      "Обнаружена ошибка в строке 3 t 2. Хотите исправить? да\n",
      "Введите исправленную строку: 3 + 2\n",
      "Сумма проведенных операций: 150.75\n"
     ]
    }
   ],
   "source": [
    "def process(line):\n",
    "    try:\n",
    "        s.append(check(line.split()))\n",
    "    except Exception:\n",
    "        print('Обнаружена ошибка в строке ', line[:-1], '. ', end =\"\", sep=\"\")\n",
    "        answer = input('Хотите исправить? ')\n",
    "        if answer == 'да': \n",
    "            new_line = input('Введите исправленную строку: ')\n",
    "            process(new_line + '\\n')\n",
    "                \n",
    "def check(operation):\n",
    "    if len(operation) != 3 or operation[1] not in '/%+-*' or not operation[0].isdigit() or not operation[2].isdigit(): raise Exception\n",
    "    sign = operation[1]\n",
    "    for key in calc.keys():\n",
    "        if operation[1] in key:\n",
    "            try:\n",
    "                return calc.get(key)(int(operation[0]), int(operation[2]))\n",
    "            except: \n",
    "                raise Exception\n",
    "\n",
    "calc = {\n",
    "    \"+\": lambda x, y: x + y,\n",
    "    \"-\": lambda x, y: x - y,\n",
    "    \"*\": lambda x, y: x * y,\n",
    "    \"%\": lambda x, y: x % y,\n",
    "    \"/\": lambda x, y: x / y\n",
    "}\n",
    "\n",
    "with open('calculator.txt') as f_calc:\n",
    "    s = []\n",
    "    contents = f_calc.readlines()\n",
    "    print(f'\\nСодержимое файла {f_calc.name}:\\n')\n",
    "    for el in contents: print(el)\n",
    "    for line in contents:\n",
    "        process(line)\n",
    "        \n",
    "    print('Сумма проведенных операций:', sum(s))"
   ]
  },
  {
   "cell_type": "code",
   "execution_count": null,
   "metadata": {},
   "outputs": [],
   "source": []
  }
 ],
 "metadata": {
  "kernelspec": {
   "display_name": "Python 3",
   "language": "python",
   "name": "python3"
  },
  "language_info": {
   "codemirror_mode": {
    "name": "ipython",
    "version": 3
   },
   "file_extension": ".py",
   "mimetype": "text/x-python",
   "name": "python",
   "nbconvert_exporter": "python",
   "pygments_lexer": "ipython3",
   "version": "3.8.3"
  },
  "toc": {
   "base_numbering": 1,
   "nav_menu": {},
   "number_sections": true,
   "sideBar": true,
   "skip_h1_title": false,
   "title_cell": "Table of Contents",
   "title_sidebar": "Contents",
   "toc_cell": false,
   "toc_position": {},
   "toc_section_display": true,
   "toc_window_display": false
  }
 },
 "nbformat": 4,
 "nbformat_minor": 4
}
