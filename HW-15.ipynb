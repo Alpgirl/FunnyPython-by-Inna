{
 "cells": [
  {
   "cell_type": "markdown",
   "metadata": {},
   "source": [
    "# 15th homework"
   ]
  },
  {
   "cell_type": "markdown",
   "metadata": {},
   "source": [
    "## 1-CODE-REVIEW"
   ]
  },
  {
   "cell_type": "code",
   "execution_count": 107,
   "metadata": {},
   "outputs": [
    {
     "name": "stdout",
     "output_type": "stream",
     "text": [
      "ID студента — возраст: 1 - 23 , 2 - 24 , 3 - 22\n",
      "Интересы: biology, swimming, math, computer games, running, languages, health food\n",
      "Общая длина фамилий: 20\n"
     ]
    }
   ],
   "source": [
    "students = {\n",
    "    1: {\n",
    "        'name': 'Bob',\n",
    "        'surname': 'Vazovski',\n",
    "        'age': 23,\n",
    "        'interests': ['biology', 'swimming']}, \n",
    "    2: {\n",
    "        'name': 'Rob',\n",
    "        'surname': 'Stepanov',\n",
    "        'age': 24,\n",
    "        'interests': ['math', 'computer games', 'running']},\n",
    "    3: {\n",
    "        'name': 'Alexander',\n",
    "        'surname': 'Krug',\n",
    "        'age': 22,\n",
    "        'interests': ['languages', 'health food']}\n",
    "    }\n",
    "\n",
    "def interestsAndTotalLen(dict):\n",
    "    \n",
    "    interests,length = [],0\n",
    "    for ID in dict:\n",
    "        interests += (dict[ID]['interests'])\n",
    "        length += len(dict[ID]['surname'])\n",
    "    return interests, length\n",
    "\n",
    "pairs = []\n",
    "for ID in students:\n",
    "    pairs += (ID, '-', students[ID]['age'], ',')\n",
    "\n",
    "strInterests = ''\n",
    "for elem in interestsAndTotalLen(students)[0]:\n",
    "    strInterests += str(elem)+', '\n",
    "\n",
    "print('ID студента — возраст:', *pairs[:-1])\n",
    "print('Интересы:', strInterests[:-2])\n",
    "print('Общая длина фамилий:', interestsAndTotalLen(students)[1])"
   ]
  },
  {
   "cell_type": "markdown",
   "metadata": {},
   "source": [
    "## 2-GENERAL-PROGRAM"
   ]
  },
  {
   "cell_type": "code",
   "execution_count": 137,
   "metadata": {},
   "outputs": [
    {
     "name": "stdout",
     "output_type": "stream",
     "text": [
      "[1, 2, 3, 5, 7, 11, 13, 17]\n"
     ]
    }
   ],
   "source": [
    "def is_prime(ind):\n",
    "    \n",
    "    for i in range(2,ind):\n",
    "        if ind%i == 0:\n",
    "            return 1\n",
    "        \n",
    "def lstWithSimplInd(lst):\n",
    "    return[el for el in lst[1:] if is_prime(lst.index(el)) != 1]\n",
    "\n",
    "\n",
    "lst = [0, 1, 2, 3, 4, 5, 6, 7, 8, 9, 10, 11, 12, 13, 14, 15, 16, 17]\n",
    "print(lstWithSimplInd(lst))"
   ]
  },
  {
   "cell_type": "markdown",
   "metadata": {},
   "source": [
    "## 3-FUNCTION"
   ]
  },
  {
   "cell_type": "code",
   "execution_count": 119,
   "metadata": {},
   "outputs": [
    {
     "name": "stdout",
     "output_type": "stream",
     "text": [
      "Введите элемент: 0\n",
      "(0, 56, 78, 0)\n"
     ]
    }
   ],
   "source": [
    "def func(tpl, elem):\n",
    "    \n",
    "    indices = [k for k, v in enumerate(tpl) if str(v) == elem]\n",
    "    if not indices:\n",
    "        return ()\n",
    "    elif len(indices) == 1:\n",
    "        return tpl[indices[0]:]\n",
    "    else:\n",
    "        return tpl[indices[0]:indices[1]+1]\n",
    "    \n",
    "    \n",
    "tpl = (1, 'asd', 0, 56, 78, 0, '$')\n",
    "elem = input('Введите элемент: ')\n",
    "print(func(tpl, elem))"
   ]
  },
  {
   "cell_type": "markdown",
   "metadata": {},
   "source": [
    "## 4-PLAYERS"
   ]
  },
  {
   "cell_type": "code",
   "execution_count": 143,
   "metadata": {},
   "outputs": [
    {
     "name": "stdout",
     "output_type": "stream",
     "text": [
      "[('Ivan', 'Volkin', 10, 5, 13), ('Bob', 'Robbin', 7, 5, 14), ('Rob', 'Bobbin', 12, 8, 2)]\n"
     ]
    }
   ],
   "source": [
    "players = {\n",
    "    (\"Ivan\", \"Volkin\"): (10, 5, 13),\n",
    "    (\"Bob\", \"Robbin\"): (7, 5, 14),\n",
    "    (\"Rob\", \"Bobbin\"): (12, 8, 2)\n",
    "}\n",
    "\n",
    "print([tuple(k + v) for k, v in players.items()])"
   ]
  },
  {
   "cell_type": "markdown",
   "metadata": {},
   "source": [
    "2-й СПОСОБ (ЧЕРЕЗ FUNCTOOLS)"
   ]
  },
  {
   "cell_type": "code",
   "execution_count": 39,
   "metadata": {},
   "outputs": [
    {
     "name": "stdout",
     "output_type": "stream",
     "text": [
      "[('Ivan', 'Volkin', 10, 5, 13), ('Bob', 'Robbin', 7, 5, 14), ('Rob', 'Bobbin', 12, 8, 2)]\n"
     ]
    }
   ],
   "source": [
    "from typing import Any, Iterator, Dict, Tuple\n",
    "\n",
    "players = {\n",
    "    (\"Ivan\", \"Volkin\"): (10, 5, 13),\n",
    "    (\"Bob\", \"Robbin\"): (7, 5, 14),\n",
    "    (\"Rob\", \"Bobbin\"): (12, 8, 2)\n",
    "}\n",
    "\n",
    "def flatten_players_dict_items(\n",
    "    dct: Dict[Tuple[Any, ...],\n",
    "              Tuple[Any, ...]]\n",
    ") -> Iterator[Tuple[Any, ...]]:\n",
    "    \"\"\"Flatten a dict of tuple keys and values\n",
    "    into an iterator of tuples of all of them\n",
    "    together for every tuple pair.\n",
    "    \"\"\"\n",
    "\n",
    "    for key_tpl, val_tpl in dct.items():\n",
    "        yield (*key_tpl, *val_tpl)\n",
    "\n",
    "print(list(flatten_players_dict_items(players)))"
   ]
  },
  {
   "cell_type": "markdown",
   "metadata": {},
   "source": [
    "## 5-ONE-FAMILY"
   ]
  },
  {
   "cell_type": "code",
   "execution_count": 29,
   "metadata": {},
   "outputs": [
    {
     "name": "stdout",
     "output_type": "stream",
     "text": [
      "Введите фамилию: Сидоров\n",
      "Сидоров Никита 35\n",
      "Сидорова Алина 34\n",
      "Сидоров Павел 10\n"
     ]
    }
   ],
   "source": [
    "from functools import partial\n",
    "from typing import Any, Iterator, Dict, Tuple\n",
    "#from collections.abc import Dict, Tuple\n",
    "\n",
    "data = {\n",
    "    'Сидоров Никита': 35,\n",
    "    'Сидорова Алина': 34,\n",
    "    'Сидоров Павел': 10,\n",
    "    'Муравьёв-Апостол Сергей': 29,\n",
    "    'Бестужев-Рюмин Михаил': 25,\n",
    "    'Соломко Егор' : 30,\n",
    "    'Соломко Ирина' : 27\n",
    "}\n",
    "\n",
    "\n",
    "def strip_inflection_from_surname(name):\n",
    "\n",
    "    if name[-1:] == 'а':\n",
    "        return name[:-1]\n",
    "\n",
    "    if name[-2:] in ('ий', 'ой', 'ая'):\n",
    "        return name[:-2]\n",
    "\n",
    "    return name\n",
    "\n",
    "\n",
    "def same_family_name(name1: str, name2: str) -> bool:\n",
    "\n",
    "    name1 = strip_inflection_from_surname(name1.lower())\n",
    "    name2 = strip_inflection_from_surname(name2.lower())\n",
    "\n",
    "    return name1 == name2\n",
    "\n",
    "\n",
    "def process(data: Dict[str, Any]) -> Iterator[Tuple[Any, ...]]:\n",
    "    return map(\n",
    "        lambda pair: (pair[0].split()[0], pair[0].split()[1], pair[1]),\n",
    "        data.items()\n",
    "    )\n",
    "#from data.items make a tuple (surname, name, age)\n",
    "\n",
    "\n",
    "search_string = input('Введите фамилию: ')\n",
    "\n",
    "res = filter(\n",
    "    lambda x: partial(same_family_name, name2=search_string)(x[0]),\n",
    "    process(data)\n",
    ")\n",
    "#launch process with data argument, when call same_family_name to check if surname coincide with input. \n",
    "#Partial() fixes one variable from others with value. x[0] - take surname from process(data).\n",
    "#Filter() gets true/false and return iterator from process(data)\n",
    "\n",
    "for person in res:\n",
    "    print(*person)"
   ]
  },
  {
   "cell_type": "markdown",
   "metadata": {},
   "source": [
    "## 6-BY-PAIRS"
   ]
  },
  {
   "cell_type": "code",
   "execution_count": 191,
   "metadata": {},
   "outputs": [
    {
     "name": "stdout",
     "output_type": "stream",
     "text": [
      "Оригинальный список: [11, 54, 60, 73, 72, 10, 47, 27, 3, 10]\n",
      "Новый список: [(11, 54), (60, 73), (72, 10), (47, 27), (3, 10)]\n"
     ]
    }
   ],
   "source": [
    "import random \n",
    "n = 10\n",
    "\n",
    "orig_lst = [random.randrange(0,100) for i in range(n)]\n",
    "print(\"Оригинальный список:\", orig_lst)\n",
    "\n",
    "res_lst = [(orig_lst[i], orig_lst[i+1]) for i in range(0,(n//2)*2,2)]\n",
    "if n%2 != 0: res_lst.append((orig_lst[n-1],))\n",
    "    \n",
    "print(\"Новый список:\", res_lst)"
   ]
  },
  {
   "cell_type": "markdown",
   "metadata": {},
   "source": [
    "## 7-SORT-FUNCTION"
   ]
  },
  {
   "cell_type": "code",
   "execution_count": 16,
   "metadata": {},
   "outputs": [
    {
     "name": "stdout",
     "output_type": "stream",
     "text": [
      "[0, 1, 2, 3, 5, 6, 12]\n"
     ]
    }
   ],
   "source": [
    "def sort_func(tpl):\n",
    "    \n",
    "    for el in tpl:\n",
    "         if int(el)!= el: return tpl\n",
    "    tpl = sorted(tpl)\n",
    "    return tpl\n",
    "\n",
    "orig_tpl = (1, 2, 6, 3, 0, 12, 5)\n",
    "print(sort_func(orig_tpl))"
   ]
  },
  {
   "cell_type": "markdown",
   "metadata": {},
   "source": [
    "## 8-CONTACTS-3"
   ]
  },
  {
   "cell_type": "code",
   "execution_count": 35,
   "metadata": {},
   "outputs": [
    {
     "name": "stdout",
     "output_type": "stream",
     "text": [
      "Что Вы хотите сделать? Варианты: \"Добавить контакт\", \"Поиск человека по фамилии\", \"Выйти\"Добавить контакт\n",
      "Введите имя: Артем\n",
      "Введите фамилию: Сидоров\n",
      "Введите номер телефона: 3456\n",
      "  1: {'имя': 'Полина', 'фамилия': 'Короткова', 'номер телефона': '9867'}\n",
      "  2: {'имя': 'Артем', 'фамилия': 'Сидоров', 'номер телефона': '4579'}\n",
      "  3: {'имя': 'Вика', 'фамилия': 'Иванова', 'номер телефона': '1325'}\n",
      "  4: {'имя': 'Антон', 'фамилия': 'Сидоров', 'номер телефона': '3210'}\n",
      "  5: {'имя': 'Артем', 'фамилия': 'Сидоров', 'номер телефонв': '3456'}\n",
      "Что Вы хотите сделать? Варианты: \"Добавить контакт\", \"Поиск человека по фамилии\", \"Выйти\"Поиск человека по фамилии\n",
      "Введите фамилию: Сидоров\n",
      "  имя: Артем\n",
      "  номер телефона: 4579\n",
      "  фамилия: Сидоров\n",
      "  имя: Антон\n",
      "  номер телефона: 3210\n",
      "  фамилия: Сидоров\n",
      "  имя: Артем\n",
      "  номер телефонв: 3456\n",
      "  фамилия: Сидоров\n",
      "Что Вы хотите сделать? Варианты: \"Добавить контакт\", \"Поиск человека по фамилии\", \"Выйти\"Выйти\n"
     ]
    }
   ],
   "source": [
    "import sys\n",
    "\n",
    "def print_in_lines(dict):\n",
    "    \n",
    "    return [print(\" \"*2, key, ': ', value, sep =\"\") for key, value in sorted(dict.items()) if value != 0]\n",
    "\n",
    "tel_dict = {\n",
    "    1: {\"имя\" : \"Полина\",\n",
    "        \"фамилия\" : \"Короткова\",\n",
    "        \"номер телефона\" : \"9867\"},\n",
    "    2: {\"имя\" : 'Артем',\n",
    "        \"фамилия\" : 'Сидоров',\n",
    "        \"номер телефона\" : '4579'},\n",
    "    3: {\"имя\" : \"Вика\",\n",
    "        \"фамилия\" : \"Иванова\",\n",
    "        \"номер телефона\" : \"1325\"},\n",
    "    4: {\"имя\" : 'Антон',\n",
    "        \"фамилия\" : 'Сидоров',\n",
    "        \"номер телефона\" : '3210'}\n",
    "}\n",
    "while (True):\n",
    "    action = input('Что Вы хотите сделать? Варианты: \"Добавить контакт\", \"Поиск человека по фамилии\", \"Выйти\" ')\n",
    "    if action == 'Выйти':\n",
    "        break\n",
    "    if action == 'Поиск человека по фамилии':\n",
    "        surname = input('Введите фамилию: ')\n",
    "        for val in tel_dict.values():\n",
    "            if val['фамилия'].lower() == surname.lower():\n",
    "                print_in_lines(val)\n",
    "    elif action == 'Добавить контакт':\n",
    "        name = input('Введите имя: ')\n",
    "        surname = input('Введите фамилию: ')\n",
    "        phone_num = input('Введите номер телефона: ')\n",
    "        \n",
    "        data_dict = {}\n",
    "        data_dict['имя'] = name\n",
    "        data_dict['фамилия'] = surname\n",
    "        data_dict['номер телефонв'] = phone_num\n",
    "        \n",
    "        add = True\n",
    "        for val in tel_dict.values():\n",
    "            if val['имя'].lower() == name.lower() and val['фамилия'].lower() == surname.lower()and val['номер телефона'].lower() == phone_num.lower():\n",
    "                add = False\n",
    "        if add == True:\n",
    "            tel_dict[len(tel_dict.keys())+1] = data_dict\n",
    "            print_in_lines(tel_dict)\n",
    "        else: print('Этот человек уже есть в книге.')\n"
   ]
  },
  {
   "cell_type": "markdown",
   "metadata": {},
   "source": [
    "## 9-PROTOCOL-COMPETITION"
   ]
  },
  {
   "cell_type": "code",
   "execution_count": 10,
   "metadata": {},
   "outputs": [
    {
     "name": "stdout",
     "output_type": "stream",
     "text": [
      "Сколько записей вносится в протокол? 5\n",
      "Записи (результат и имя):\n",
      "1 запись: 12 T\n",
      "2 запись: 23 A\n",
      "3 запись: 12 R\n",
      "4 запись: 23 F\n",
      "5 запись: 23 U\n",
      "Итоги соревнований:\n",
      "1 место. A (23)\n",
      "2 место. F (23)\n",
      "3 место. U (23)\n"
     ]
    }
   ],
   "source": [
    "from operator import itemgetter\n",
    "\n",
    "def print_res(lst):\n",
    "    \n",
    "    cnt,i,participants = 0,0,[]\n",
    "    while True:\n",
    "        for j in range(1,len(lst[i])):\n",
    "            if lst[i][j] not in participants:\n",
    "                print(cnt+1, 'место. ', end=\"\")\n",
    "                print(f'{lst[i][j]} ({lst[i][0]})', sep=\"\")\n",
    "                cnt += 1\n",
    "            participants.append(lst[i][j])\n",
    "            if cnt == 3: return\n",
    "        i += 1\n",
    "        \n",
    "        \n",
    "num_report = int(input(\"Сколько записей вносится в протокол? \"))\n",
    "lst = []\n",
    "print('Записи (результат и имя):')\n",
    "\n",
    "for rep in range(num_report):\n",
    "    print(f'{rep+1} запись:', end=\" \")\n",
    "    new_row = input().split()\n",
    "    add = True\n",
    "    for el in lst:\n",
    "        if int(new_row[0]) == el[0] and new_row[1] != el[1]:\n",
    "            lst[lst.index(el)] += [new_row[1]]\n",
    "            add = False\n",
    "    if add == True:\n",
    "        lst.append([int(new_row[0]), new_row[1]])\n",
    "\n",
    "lst = sorted(lst, key=itemgetter(0), reverse=True) #or key = lambda x: x[0]\n",
    "\n",
    "print('Итоги соревнований:')\n",
    "print_res(lst)"
   ]
  },
  {
   "cell_type": "markdown",
   "metadata": {},
   "source": [
    "2-й СПОСОБ (ЧЕРЕЗ FUNCTOOLS)"
   ]
  },
  {
   "cell_type": "code",
   "execution_count": 9,
   "metadata": {},
   "outputs": [
    {
     "name": "stdout",
     "output_type": "stream",
     "text": [
      "n = 5\n",
      "result = 12 T\n",
      "[12, 1, 'T']\n",
      "result = 23 A\n",
      "[23, 1, 'A']\n",
      "result = 12 R\n",
      "[12, 1, 'R']\n",
      "result = 23 F\n",
      "[23, 1, 'F']\n",
      "result = 23 U\n",
      "[23, 1, 'U']\n",
      "[[23, 1, 'A'], [23, 1, 'F'], [23, 1, 'U']]\n"
     ]
    }
   ],
   "source": [
    "import functools\n",
    "\n",
    "def help_sort(max_one, max_two):\n",
    "    if max_one[0] == max_two[0]:\n",
    "        return max_two[1] - max_one[1]\n",
    "    else: \n",
    "        if max_one[0] > max_two[0]:\n",
    "            return -1\n",
    "        else:\n",
    "            return  1\n",
    "\n",
    "\n",
    "table = dict()\n",
    "n = int(input(\"n = \"))\n",
    "max = [[0, 0, \"name\"],\n",
    "       [0, 0, \"name\"],\n",
    "       [0, 0, \"name\"]]\n",
    "\n",
    "for i in range(n):\n",
    "    s = input(\"result = \")\n",
    "    result = s.split()\n",
    "    result[0] = int(result[0])\n",
    "    \n",
    "    if result[1] in table.keys(): table[result[1]] += 1\n",
    "    else: table[result[1]] = 1\n",
    "    \n",
    "    result.insert(1, table[result[1]])\n",
    "    print(result)\n",
    "    max.append(result)\n",
    "    max.sort(key=functools.cmp_to_key(help_sort))\n",
    "    max.pop()\n",
    "    \n",
    "print(max)"
   ]
  },
  {
   "cell_type": "markdown",
   "metadata": {},
   "source": [
    "## 10-OWN-ZIP-FUNCTION"
   ]
  },
  {
   "cell_type": "code",
   "execution_count": 34,
   "metadata": {},
   "outputs": [
    {
     "name": "stdout",
     "output_type": "stream",
     "text": [
      "Строка: abcd\n",
      "Кортеж чисел: (10, 20, 30, 40)\n",
      "<generator object <genexpr> at 0x10b6ce040>\n",
      "('a', 10)\n",
      "('b', 20)\n",
      "('c', 30)\n",
      "('d', 40)\n"
     ]
    }
   ],
   "source": [
    "def zip_func(generator):\n",
    "    \n",
    "    while True:\n",
    "        try:\n",
    "            tpl_pair = next(generator)\n",
    "        except StopIteration:\n",
    "            break\n",
    "        print(tpl_pair)\n",
    "    \n",
    "string = input('Строка: ')\n",
    "tpl = input('Кортеж чисел: ')[1:-1].split(', ')\n",
    "\n",
    "generator = ((s,int(el)) for s, el in zip(string, tpl))\n",
    "\n",
    "print(generator)\n",
    "zip_func(generator)"
   ]
  },
  {
   "cell_type": "code",
   "execution_count": null,
   "metadata": {},
   "outputs": [],
   "source": []
  }
 ],
 "metadata": {
  "kernelspec": {
   "display_name": "Python 3",
   "language": "python",
   "name": "python3"
  },
  "language_info": {
   "codemirror_mode": {
    "name": "ipython",
    "version": 3
   },
   "file_extension": ".py",
   "mimetype": "text/x-python",
   "name": "python",
   "nbconvert_exporter": "python",
   "pygments_lexer": "ipython3",
   "version": "3.8.3"
  },
  "toc": {
   "base_numbering": 1,
   "nav_menu": {},
   "number_sections": true,
   "sideBar": true,
   "skip_h1_title": false,
   "title_cell": "Table of Contents",
   "title_sidebar": "Contents",
   "toc_cell": false,
   "toc_position": {},
   "toc_section_display": true,
   "toc_window_display": false
  }
 },
 "nbformat": 4,
 "nbformat_minor": 4
}
