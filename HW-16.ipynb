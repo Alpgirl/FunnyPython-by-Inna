{
 "cells": [
  {
   "cell_type": "markdown",
   "metadata": {},
   "source": [
    "# 16th homework "
   ]
  },
  {
   "cell_type": "markdown",
   "metadata": {},
   "source": [
    "## 1-CHALLENGE"
   ]
  },
  {
   "cell_type": "code",
   "execution_count": null,
   "metadata": {},
   "outputs": [],
   "source": [
    "def print_num(num):\n",
    "    print(num)\n",
    "    if (num < num_lim):\n",
    "        print_num(num+1)\n",
    "    \n",
    "num_lim = int(input('num = '))\n",
    "print_num(1)"
   ]
  },
  {
   "cell_type": "markdown",
   "metadata": {},
   "source": [
    "## 2-OWN-ZIP"
   ]
  },
  {
   "cell_type": "code",
   "execution_count": 51,
   "metadata": {},
   "outputs": [
    {
     "name": "stdout",
     "output_type": "stream",
     "text": [
      "1-й объект данных(строка): abcd\n",
      "2-й объект данных(лист, кортеж, словарь): [1,2,3,4]\n",
      "[('a', '1'), ('b', '2'), ('c', '3'), ('d', '4')]\n"
     ]
    }
   ],
   "source": [
    "def zip_func(generator):\n",
    "    try:\n",
    "        yield next(generator)\n",
    "        yield from zip_func(generator)\n",
    "    except StopIteration:\n",
    "        return\n",
    "    \n",
    "    \n",
    "obj1 = input('1-й объект данных(строка): ')\n",
    "obj2 = input('2-й объект данных(лист, кортеж, словарь): ')[1:-1].split(',')\n",
    "\n",
    "generator = ((obj1[i],obj2[i]) for i in range(min(len(obj1),len(obj2))))\n",
    "\n",
    "print(list(zip_func(generator)))"
   ]
  },
  {
   "cell_type": "markdown",
   "metadata": {},
   "source": [
    "## 3-FIBONACHI-ROW"
   ]
  },
  {
   "cell_type": "code",
   "execution_count": 26,
   "metadata": {},
   "outputs": [
    {
     "name": "stdout",
     "output_type": "stream",
     "text": [
      "Введите позицию числа в ряде Фибоначчи: 10\n",
      "Число: 55\n"
     ]
    }
   ],
   "source": [
    "#0 1 1 2 3 5 8 13 ... \n",
    "def print_func(el):\n",
    "    print(f'Число: {el}')\n",
    "    \n",
    "def fibonachi(last_, next_, pos):\n",
    "    if pos == 0: \n",
    "        print_func(next_)\n",
    "        return\n",
    "    next_,last_ = last_ + next_,next_\n",
    "    fibonachi(last_, next_, pos-1)\n",
    "    \n",
    "    \n",
    "num_pos = int(input('Введите позицию числа в ряде Фибоначчи: '))\n",
    "\n",
    "if num_pos == 0: print_func(0)\n",
    "elif num_pos ==1: print_func(1)\n",
    "else: fibonachi(0,1,num_pos-1)"
   ]
  },
  {
   "cell_type": "markdown",
   "metadata": {},
   "source": [
    "## 4-SEARCH-FOR-ELEMENT"
   ]
  },
  {
   "cell_type": "code",
   "execution_count": 42,
   "metadata": {},
   "outputs": [
    {
     "name": "stdout",
     "output_type": "stream",
     "text": [
      "Ключ : p\n",
      "Максимальная глубина просмотра словаря (ключ): 3\n",
      "Значение: bye\n"
     ]
    }
   ],
   "source": [
    "def return_value(dict_, key, depth):\n",
    "    if key in dict_.keys():\n",
    "        if depth == 0 or depth == 'not':\n",
    "            print(\"Значение:\", dict_[key])\n",
    "            return\n",
    "    else: \n",
    "        for d_key in dict_.keys():\n",
    "            if isinstance(dict_[d_key], dict):\n",
    "                return_value(dict_[d_key], key, 'not') if depth == 'not' else return_value(dict_[d_key], key, depth - 1)\n",
    "\n",
    "site = {\n",
    "    'html': {\n",
    "        'head': {\n",
    "            'title': {\n",
    "                'h2' : 'smth',\n",
    "                'p' : 'bye'\n",
    "            }\n",
    "        },\n",
    "        'body': {\n",
    "            'h2': 'Здесь будет мой заголовок',\n",
    "            'div': 'Тут, наверное, какой-то блок',\n",
    "            'p': 'А вот здесь новый абзац'\n",
    "        }\n",
    "    }\n",
    "}\n",
    "key = input('Ключ : ')\n",
    "max_deep_lev = input('Максимальная глубина просмотра словаря (ключ): ')\n",
    "d = site\n",
    "max_deep_lev = 'not' if max_deep_lev == \"\" else int(max_deep_lev)\n",
    "return_value(site, key, max_deep_lev)"
   ]
  },
  {
   "cell_type": "markdown",
   "metadata": {},
   "source": [
    "## 5-ACCELERATE-FUNC"
   ]
  },
  {
   "cell_type": "code",
   "execution_count": 1,
   "metadata": {},
   "outputs": [
    {
     "name": "stdout",
     "output_type": "stream",
     "text": [
      "0.6648326359915008\n",
      "0.6648326359915008\n"
     ]
    }
   ],
   "source": [
    "def fact(n):\n",
    "    res = 1 if n <= 1 else n * fact(n - 1)\n",
    "    return res\n",
    "\n",
    "def calculating_math_func(data, d_base):\n",
    "    # global d_base - плохой стиль\n",
    "    if data in d_base:\n",
    "        return d_base[data]\n",
    "    else:\n",
    "        result = fact(data)\n",
    "        result /= data ** 3\n",
    "        result = result ** 10\n",
    "        d_base[data] = result\n",
    "        return result\n",
    "\n",
    "d_base = {}\n",
    "print(calculating_math_func(5, d_base))\n",
    "print(calculating_math_func(5, d_base))"
   ]
  },
  {
   "cell_type": "markdown",
   "metadata": {},
   "source": [
    "## 6-DEEP-COPY"
   ]
  },
  {
   "cell_type": "code",
   "execution_count": 56,
   "metadata": {},
   "outputs": [
    {
     "name": "stdout",
     "output_type": "stream",
     "text": [
      "Сколько сайтов: 3\n",
      "\n",
      "\n",
      "Введите название продукта для нового сайта: y\n",
      "Сайт для y:\n",
      "{'title': 'Куплю/продам y недорого', 'h2': 'У нас самая низкая цена на y', 'div': 'Купить', 'p': 'Продать'}\n",
      "\n",
      "\n",
      "Введите название продукта для нового сайта: u\n",
      "Сайт для u:\n",
      "{'title': 'Куплю/продам u недорого', 'h2': 'У нас самая низкая цена на u', 'div': 'Купить', 'p': 'Продать'}\n",
      "\n",
      "\n",
      "Введите название продукта для нового сайта: e\n",
      "Сайт для e:\n",
      "{'title': 'Куплю/продам e недорого', 'h2': 'У нас самая низкая цена на e', 'div': 'Купить', 'p': 'Продать'}\n"
     ]
    }
   ],
   "source": [
    "def change_brend(dict_, d_orig, name):\n",
    "    for key in d_orig.keys():\n",
    "        if isinstance(d_orig[key], dict):\n",
    "            change_brend(dict_, d_orig[key], name)\n",
    "        else:\n",
    "            if key == 'h2':\n",
    "                dict_[key] = d_orig[key].replace('iPhone', name)\n",
    "            elif key == 'title':\n",
    "                dict_[key] = d_orig[key].replace('телефон', name)\n",
    "            else:\n",
    "                dict_[key] = d_orig[key]\n",
    "    return dict_\n",
    "    \n",
    "site = {\n",
    "    'html': {\n",
    "        'head': {\n",
    "            'title': 'Куплю/продам телефон недорого'\n",
    "        },\n",
    "        'body': {\n",
    "            'h2': 'У нас самая низкая цена на iPhone',\n",
    "            'div': 'Купить',\n",
    "            'p': 'Продать'\n",
    "        }\n",
    "    }\n",
    "}\n",
    "\n",
    "site_amount = int(input('Сколько сайтов: '))\n",
    "for i in range(1, site_amount+1):\n",
    "    print('\\n')\n",
    "    name_product = input('Введите название продукта для нового сайта: ')\n",
    "    print(f'Сайт для {name_product}:')\n",
    "    d = {}\n",
    "    print(change_brend(d, site, name_product))"
   ]
  },
  {
   "cell_type": "markdown",
   "metadata": {},
   "source": [
    "## 7-PROGRESSIVE-SUM"
   ]
  },
  {
   "cell_type": "code",
   "execution_count": 13,
   "metadata": {},
   "outputs": [
    {
     "name": "stdout",
     "output_type": "stream",
     "text": [
      "Ответ: 23 [1, 2, 1, 4, 5, 3, 3, 4, 0]\n"
     ]
    }
   ],
   "source": [
    "def sum_own(data):\n",
    "    for el in data:\n",
    "        if isinstance(el, list):\n",
    "            sum_own(el)\n",
    "        else: l.append(el)\n",
    "    return l\n",
    "\n",
    "l = []\n",
    "lst = [1, 2, [1, [4, 5], 3], 3, 4, [0]]\n",
    "print('Ответ:', sum(sum_own(lst)))"
   ]
  },
  {
   "cell_type": "markdown",
   "metadata": {},
   "source": [
    "## 8-LIST-OF-LISTS"
   ]
  },
  {
   "cell_type": "code",
   "execution_count": 14,
   "metadata": {},
   "outputs": [
    {
     "name": "stdout",
     "output_type": "stream",
     "text": [
      "Ответ: [1, 2, 3, 4, 5, 6, 7, 8, 9, 10, 11, 12, 13, 14, 15, 16, 17, 18]\n"
     ]
    }
   ],
   "source": [
    "def open(data):\n",
    "    for el in data:\n",
    "        if isinstance(el, list):\n",
    "            sum_own(el)\n",
    "        else: l.append(el)\n",
    "    return l\n",
    "\n",
    "l = []\n",
    "nice_list = [1, 2, [3, 4], [[5, 6, 7], [8, 9, 10]], [[11, 12, 13], [14, 15], [16, 17, 18]]]\n",
    "print(\"Ответ:\", open(nice_list))"
   ]
  },
  {
   "cell_type": "markdown",
   "metadata": {},
   "source": [
    "## 9-HANOI-TOWERS"
   ]
  },
  {
   "cell_type": "code",
   "execution_count": 54,
   "metadata": {},
   "outputs": [
    {
     "name": "stdout",
     "output_type": "stream",
     "text": [
      "Move disk 1 from source A to destination C\n",
      "Move disk 2 from source A to destination B\n",
      "Move disk 1 from source C to destination B\n",
      "Move disk 3 from source A to destination C\n",
      "Move disk 1 from source B to destination A\n",
      "Move disk 2 from source B to destination C\n",
      "Move disk 1 from source A to destination C\n",
      "Move disk 4 from source A to destination B\n",
      "Move disk 1 from source C to destination B\n",
      "Move disk 2 from source C to destination A\n",
      "Move disk 1 from source B to destination A\n",
      "Move disk 3 from source C to destination B\n",
      "Move disk 1 from source A to destination C\n",
      "Move disk 2 from source A to destination B\n",
      "Move disk 1 from source C to destination B\n"
     ]
    }
   ],
   "source": [
    "def Move(n , source, destination, auxiliary):\n",
    "    if n==1:\n",
    "        print (\"Move disk 1 from source\", source, \"to destination\", destination)\n",
    "        return\n",
    "    TowerOfHanoi(n-1, source, auxiliary, destination)\n",
    "    print (\"Move disk\",n,\"from source\", source,\" to destination\", destination)\n",
    "    TowerOfHanoi(n-1, auxiliary, destination, source)\n",
    "\n",
    "    \n",
    "n = int(input('Введите количество дисков: '))\n",
    "Move(n,'A','B','C')"
   ]
  },
  {
   "cell_type": "code",
   "execution_count": null,
   "metadata": {},
   "outputs": [],
   "source": []
  }
 ],
 "metadata": {
  "kernelspec": {
   "display_name": "Python 3",
   "language": "python",
   "name": "python3"
  },
  "language_info": {
   "codemirror_mode": {
    "name": "ipython",
    "version": 3
   },
   "file_extension": ".py",
   "mimetype": "text/x-python",
   "name": "python",
   "nbconvert_exporter": "python",
   "pygments_lexer": "ipython3",
   "version": "3.8.3"
  },
  "toc": {
   "base_numbering": 1,
   "nav_menu": {},
   "number_sections": true,
   "sideBar": true,
   "skip_h1_title": false,
   "title_cell": "Table of Contents",
   "title_sidebar": "Contents",
   "toc_cell": false,
   "toc_position": {},
   "toc_section_display": true,
   "toc_window_display": false
  }
 },
 "nbformat": 4,
 "nbformat_minor": 4
}
