{
 "cells": [
  {
   "cell_type": "markdown",
   "metadata": {},
   "source": [
    "# 16th homework "
   ]
  },
  {
   "cell_type": "markdown",
   "metadata": {},
   "source": [
    "## 1-CHALLENGE"
   ]
  },
  {
   "cell_type": "code",
   "execution_count": null,
   "metadata": {},
   "outputs": [],
   "source": [
    "def print_num(num):\n",
    "    print(num)\n",
    "    if (num < num_lim):\n",
    "        print_num(num+1)\n",
    "    \n",
    "num_lim = int(input('num = '))\n",
    "print_num(1)"
   ]
  },
  {
   "cell_type": "markdown",
   "metadata": {},
   "source": [
    "## 2-OWN-ZIP"
   ]
  },
  {
   "cell_type": "code",
   "execution_count": 51,
   "metadata": {},
   "outputs": [
    {
     "name": "stdout",
     "output_type": "stream",
     "text": [
      "1-й объект данных(строка): abcd\n",
      "2-й объект данных(лист, кортеж, словарь): [1,2,3,4]\n",
      "[('a', '1'), ('b', '2'), ('c', '3'), ('d', '4')]\n"
     ]
    }
   ],
   "source": [
    "def zip_func(generator):\n",
    "    try:\n",
    "        yield next(generator)\n",
    "        yield from zip_func(generator)\n",
    "    except StopIteration:\n",
    "        return\n",
    "    \n",
    "    \n",
    "obj1 = input('1-й объект данных(строка): ')\n",
    "obj2 = input('2-й объект данных(лист, кортеж, словарь): ')[1:-1].split(',')\n",
    "\n",
    "generator = ((obj1[i],obj2[i]) for i in range(min(len(obj1),len(obj2))))\n",
    "\n",
    "print(list(zip_func(generator)))"
   ]
  },
  {
   "cell_type": "markdown",
   "metadata": {},
   "source": [
    "## 3-FIBONACHI-ROW"
   ]
  },
  {
   "cell_type": "code",
   "execution_count": 26,
   "metadata": {},
   "outputs": [
    {
     "name": "stdout",
     "output_type": "stream",
     "text": [
      "Введите позицию числа в ряде Фибоначчи: 10\n",
      "Число: 55\n"
     ]
    }
   ],
   "source": [
    "#0 1 1 2 3 5 8 13 ... \n",
    "def print_func(el):\n",
    "    print(f'Число: {el}')\n",
    "    \n",
    "def fibonachi(last_, next_, pos):\n",
    "    if pos == 0: \n",
    "        print_func(next_)\n",
    "        return\n",
    "    next_,last_ = last_ + next_,next_\n",
    "    fibonachi(last_, next_, pos-1)\n",
    "    \n",
    "    \n",
    "num_pos = int(input('Введите позицию числа в ряде Фибоначчи: '))\n",
    "\n",
    "if num_pos == 0: print_func(0)\n",
    "elif num_pos ==1: print_func(1)\n",
    "else: fibonachi(0,1,num_pos-1)"
   ]
  },
  {
   "cell_type": "markdown",
   "metadata": {},
   "source": [
    "## 4-SEARCH-FOR-ELEMENT"
   ]
  },
  {
   "cell_type": "code",
   "execution_count": 45,
   "metadata": {},
   "outputs": [
    {
     "name": "stdout",
     "output_type": "stream",
     "text": [
      "Ключ : title\n",
      "Максимальная глубина просмотра словаря: \n"
     ]
    },
    {
     "ename": "KeyError",
     "evalue": "0",
     "output_type": "error",
     "traceback": [
      "\u001b[0;31m---------------------------------------------------------------------------\u001b[0m",
      "\u001b[0;31mKeyError\u001b[0m                                  Traceback (most recent call last)",
      "\u001b[0;32m<ipython-input-45-dee2f700bc0f>\u001b[0m in \u001b[0;36m<module>\u001b[0;34m\u001b[0m\n\u001b[1;32m     23\u001b[0m \u001b[0mmax_deep_lev\u001b[0m \u001b[0;34m=\u001b[0m \u001b[0minput\u001b[0m\u001b[0;34m(\u001b[0m\u001b[0;34m'Максимальная глубина просмотра словаря: '\u001b[0m\u001b[0;34m)\u001b[0m\u001b[0;34m\u001b[0m\u001b[0;34m\u001b[0m\u001b[0m\n\u001b[1;32m     24\u001b[0m \u001b[0md\u001b[0m \u001b[0;34m=\u001b[0m \u001b[0msite\u001b[0m\u001b[0;34m\u001b[0m\u001b[0;34m\u001b[0m\u001b[0m\n\u001b[0;32m---> 25\u001b[0;31m \u001b[0mprint\u001b[0m\u001b[0;34m(\u001b[0m\u001b[0msite\u001b[0m\u001b[0;34m[\u001b[0m\u001b[0;36m0\u001b[0m\u001b[0;34m]\u001b[0m\u001b[0;34m)\u001b[0m\u001b[0;34m\u001b[0m\u001b[0;34m\u001b[0m\u001b[0m\n\u001b[0m\u001b[1;32m     26\u001b[0m \"\"\"if max_deep_lev != \"\":\n\u001b[1;32m     27\u001b[0m     \u001b[0;32mfor\u001b[0m \u001b[0mi\u001b[0m \u001b[0;32min\u001b[0m \u001b[0mrange\u001b[0m\u001b[0;34m(\u001b[0m\u001b[0mmax_deep_lev\u001b[0m\u001b[0;34m)\u001b[0m\u001b[0;34m:\u001b[0m\u001b[0;34m\u001b[0m\u001b[0;34m\u001b[0m\u001b[0m\n",
      "\u001b[0;31mKeyError\u001b[0m: 0"
     ]
    }
   ],
   "source": [
    "def return_value(dict_, key):\n",
    "    if key in dict_.keys():\n",
    "        print(\"Значение:\", dict_[key])\n",
    "        return dict_[key]\n",
    "    else: \n",
    "        for d_key in dict_.keys():\n",
    "            if isinstance(dict_[d_key], dict):\n",
    "                return_value(dict_[d_key], key)\n",
    "\n",
    "site = {\n",
    "    'html': {\n",
    "        'head': {\n",
    "            'title': 'Мой сайт'\n",
    "        },\n",
    "        'body': {\n",
    "            'h2': 'Здесь будет мой заголовок',\n",
    "            'div': 'Тут, наверное, какой-то блок',\n",
    "            'p': 'А вот здесь новый абзац'\n",
    "        }\n",
    "    }\n",
    "}\n",
    "key = input('Ключ : ')\n",
    "max_deep_lev = input('Максимальная глубина просмотра словаря (ключ): ')\n",
    "d = site\n",
    "print(site[0])\n",
    "if max_deep_lev != \"\":\n",
    "    if max_deep_lev == \n",
    "    for i in range(max_deep_lev):\n",
    "        d = d[i]\"\"\"\n",
    "return_value(site,key)"
   ]
  },
  {
   "cell_type": "code",
   "execution_count": null,
   "metadata": {},
   "outputs": [],
   "source": []
  },
  {
   "cell_type": "code",
   "execution_count": null,
   "metadata": {},
   "outputs": [],
   "source": []
  }
 ],
 "metadata": {
  "kernelspec": {
   "display_name": "Python 3",
   "language": "python",
   "name": "python3"
  },
  "language_info": {
   "codemirror_mode": {
    "name": "ipython",
    "version": 3
   },
   "file_extension": ".py",
   "mimetype": "text/x-python",
   "name": "python",
   "nbconvert_exporter": "python",
   "pygments_lexer": "ipython3",
   "version": "3.8.3"
  },
  "toc": {
   "base_numbering": 1,
   "nav_menu": {},
   "number_sections": true,
   "sideBar": true,
   "skip_h1_title": false,
   "title_cell": "Table of Contents",
   "title_sidebar": "Contents",
   "toc_cell": false,
   "toc_position": {},
   "toc_section_display": true,
   "toc_window_display": false
  }
 },
 "nbformat": 4,
 "nbformat_minor": 4
}
